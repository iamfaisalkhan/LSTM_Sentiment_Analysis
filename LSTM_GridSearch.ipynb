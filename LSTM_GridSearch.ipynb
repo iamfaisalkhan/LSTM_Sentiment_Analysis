{
 "cells": [
  {
   "cell_type": "code",
   "execution_count": 1,
   "metadata": {},
   "outputs": [
    {
     "name": "stderr",
     "output_type": "stream",
     "text": [
      "/home/faisal/anaconda3/envs/ai/lib/python3.6/site-packages/h5py/__init__.py:36: FutureWarning: Conversion of the second argument of issubdtype from `float` to `np.floating` is deprecated. In future, it will be treated as `np.float64 == np.dtype(float).type`.\n",
      "  from ._conv import register_converters as _register_converters\n",
      "Using TensorFlow backend.\n"
     ]
    }
   ],
   "source": [
    "import os\n",
    "import numpy as np\n",
    "import itertools\n",
    "\n",
    "\n",
    "from keras.preprocessing.text import Tokenizer\n",
    "from keras.preprocessing.sequence import pad_sequences\n",
    "from keras.utils import to_categorical\n",
    "\n",
    "from keras.layers import Dense, Input, GlobalMaxPooling1D, SpatialDropout1D\n",
    "from keras.layers import Conv1D, MaxPooling1D, Embedding, LSTM\n",
    "from keras.models import Model"
   ]
  },
  {
   "cell_type": "code",
   "execution_count": 2,
   "metadata": {},
   "outputs": [],
   "source": [
    "DATA_DIR = './data'\n",
    "GLOVE_DIR = os.path.join(DATA_DIR, 'glove.6B')\n",
    "MAX_SEQUENCE_LENGTH = 15\n",
    "MAX_NUM_WORDS = 20000\n",
    "EMBEDDING_DIM = 200\n",
    "VALIDATION_SPLIT = 0.2\n"
   ]
  },
  {
   "cell_type": "markdown",
   "metadata": {},
   "source": [
    "### Loading the data"
   ]
  },
  {
   "cell_type": "code",
   "execution_count": 3,
   "metadata": {},
   "outputs": [],
   "source": [
    "data = []  # list of text samples\n",
    "texts = []\n",
    "labels = []\n",
    "\n",
    "for name in ['yelp_labelled.txt', 'imdb_labelled.txt', 'amazon_cells_labelled.txt']:\n",
    "    path = os.path.join(DATA_DIR, name)\n",
    "    with open(path) as f:\n",
    "        text = f.read()\n",
    "        texts.extend([d.split('\\t')[0] for d in [d for d in text.split('\\n')] if len(d) > 0])\n",
    "        labels.extend([int(d.split('\\t')[1]) for d in [d for d in text.split('\\n')] if len(d) > 0])"
   ]
  },
  {
   "cell_type": "code",
   "execution_count": 4,
   "metadata": {},
   "outputs": [],
   "source": [
    "texts = np.array(texts)\n",
    "labels = np.array(labels).astype(np.uint8)"
   ]
  },
  {
   "cell_type": "markdown",
   "metadata": {},
   "source": [
    "### Basic Text cleaning and stop words removal. "
   ]
  },
  {
   "cell_type": "code",
   "execution_count": 5,
   "metadata": {},
   "outputs": [
    {
     "name": "stdout",
     "output_type": "stream",
     "text": [
      "[nltk_data] Downloading package stopwords to /home/faisal/nltk_data...\n",
      "[nltk_data]   Package stopwords is already up-to-date!\n"
     ]
    }
   ],
   "source": [
    "import nltk\n",
    "nltk.download('stopwords')\n",
    "from nltk.corpus import stopwords\n"
   ]
  },
  {
   "cell_type": "code",
   "execution_count": 6,
   "metadata": {},
   "outputs": [],
   "source": [
    "import re\n",
    "from nltk.tokenize import WhitespaceTokenizer\n",
    "\n",
    "REPLACE_BY_SPACE_RE = re.compile('[/(){}\\[\\]\\|@,;]')\n",
    "BAD_SYMBOLS_RE = re.compile('[^0-9a-z #+_]')\n",
    "STOPWORDS = set(stopwords.words('english'))\n",
    "\n",
    "def text_prepare(text):\n",
    "    text = text.lower()\n",
    "    text = re.sub(REPLACE_BY_SPACE_RE, ' ', text)\n",
    "    text = re.sub(BAD_SYMBOLS_RE, '', text)\n",
    "    return WhitespaceTokenizer().tokenize(text)\n",
    "\n",
    "tkns = list(map(text_prepare, texts))\n"
   ]
  },
  {
   "cell_type": "code",
   "execution_count": 7,
   "metadata": {},
   "outputs": [],
   "source": [
    "counts = []\n",
    "for tkn in tkns:\n",
    "    counts.append(len(tkn))"
   ]
  },
  {
   "cell_type": "code",
   "execution_count": 8,
   "metadata": {},
   "outputs": [
    {
     "name": "stdout",
     "output_type": "stream",
     "text": [
      "Average sequence length  11.796333333333333\n"
     ]
    }
   ],
   "source": [
    "print (\"Average sequence length \", sum(counts)/len(counts))"
   ]
  },
  {
   "cell_type": "code",
   "execution_count": 9,
   "metadata": {},
   "outputs": [
    {
     "data": {
      "image/png": "[encoded data removed]",
      "text/plain": [
       "<Figure size 432x288 with 1 Axes>"
      ]
     },
     "metadata": {},
     "output_type": "display_data"
    }
   ],
   "source": [
    "import matplotlib.pyplot as plt\n",
    "%matplotlib inline\n",
    "plt.hist(counts, 30)\n",
    "plt.xlabel('Sequence Length')\n",
    "plt.ylabel('Frequency')\n",
    "# plt.axis([0, 1200, 0, 8000])\n",
    "plt.show()"
   ]
  },
  {
   "cell_type": "code",
   "execution_count": 10,
   "metadata": {},
   "outputs": [],
   "source": [
    "cleaned_text = [' '.join(tkn) for tkn in tkns]"
   ]
  },
  {
   "cell_type": "markdown",
   "metadata": {},
   "source": [
    "### Text to integer indices"
   ]
  },
  {
   "cell_type": "code",
   "execution_count": 11,
   "metadata": {},
   "outputs": [
    {
     "name": "stdout",
     "output_type": "stream",
     "text": [
      "Found 5374 unique tokens.\n",
      "Shape of data tensor: (3000, 15)\n",
      "Shape of label tensor: (3000,)\n"
     ]
    },
    {
     "name": "stderr",
     "output_type": "stream",
     "text": [
      "/home/faisal/anaconda3/envs/ai/lib/python3.6/site-packages/keras/preprocessing/text.py:157: UserWarning: The `nb_words` argument in `Tokenizer` has been renamed `num_words`.\n",
      "  warnings.warn('The `nb_words` argument in `Tokenizer` '\n"
     ]
    }
   ],
   "source": [
    "from keras.preprocessing.text import Tokenizer\n",
    "from keras.preprocessing.sequence import pad_sequences\n",
    "from keras.utils import to_categorical\n",
    "\n",
    "tokenizer = Tokenizer(nb_words=MAX_NUM_WORDS)\n",
    "tokenizer.fit_on_texts(cleaned_text)\n",
    "sequences = tokenizer.texts_to_sequences(cleaned_text)\n",
    "\n",
    "word_index = tokenizer.word_index\n",
    "print('Found %s unique tokens.' % len(word_index))\n",
    "\n",
    "data = pad_sequences(sequences, maxlen=MAX_SEQUENCE_LENGTH)\n",
    "\n",
    "clabels = to_categorical(np.asarray(labels))\n",
    "print('Shape of data tensor:', data.shape)\n",
    "print('Shape of label tensor:', labels.shape)"
   ]
  },
  {
   "cell_type": "code",
   "execution_count": 12,
   "metadata": {},
   "outputs": [],
   "source": [
    "indices = np.arange(data.shape[0])\n",
    "np.random.shuffle(indices)\n",
    "data = data[indices]\n",
    "clabels = clabels[indices]\n",
    "\n",
    "num_validation_samples = int(VALIDATION_SPLIT * data.shape[0])\n",
    "\n",
    "X_train = data[:-num_validation_samples]\n",
    "Y_train = clabels[:-num_validation_samples]\n",
    "# Non-hot-encoded labels for sklearn GridSearchCV because it does the hot encoding internally. \n",
    "Y_train_orig = labels[:-num_validation_samples]\n",
    "X_val = data[-num_validation_samples:]\n",
    "Y_val = clabels[-num_validation_samples:]\n"
   ]
  },
  {
   "cell_type": "code",
   "execution_count": 13,
   "metadata": {},
   "outputs": [
    {
     "name": "stdout",
     "output_type": "stream",
     "text": [
      "\t  Positive (+ve) examples in training (1195,).\n",
      "          Negative examples in training (1205,).\n",
      "          Positive examples in validation (305,).\n",
      "          Negative examples in validation (295,).\n"
     ]
    }
   ],
   "source": [
    "print (f\"\\t  Positive (+ve) examples in training {Y_train[:, 1].nonzero()[0].shape}.\\n \\\n",
    "         Negative examples in training {Y_train[:, 0].nonzero()[0].shape}.\\n \\\n",
    "         Positive examples in validation {Y_val[:, 1].nonzero()[0].shape}.\\n \\\n",
    "         Negative examples in validation {Y_val[:, 0].nonzero()[0].shape}.\")"
   ]
  },
  {
   "cell_type": "code",
   "execution_count": 14,
   "metadata": {},
   "outputs": [],
   "source": [
    "neg_samples = np.random.choice(Y_train[:, 0].nonzero()[0], 500)\n",
    "pos_samples = np.random.choice(Y_train[:, 1].nonzero()[0], 500)\n"
   ]
  },
  {
   "cell_type": "code",
   "execution_count": 15,
   "metadata": {},
   "outputs": [],
   "source": [
    "X_train_small = X_train[np.concatenate((neg_samples, pos_samples))]\n",
    "Y_train_small = Y_train_orig[np.concatenate((neg_samples, pos_samples))]"
   ]
  },
  {
   "cell_type": "markdown",
   "metadata": {},
   "source": [
    "### Load pre-existing word embedding the word embeddings"
   ]
  },
  {
   "cell_type": "code",
   "execution_count": 16,
   "metadata": {},
   "outputs": [],
   "source": [
    "embeddings_index = {}\n",
    "with open(os.path.join(GLOVE_DIR, 'glove.6B.200d.txt')) as f:\n",
    "    for line in f:\n",
    "        values = line.split()\n",
    "        word = values[0]\n",
    "        coefs = np.asarray(values[1:], dtype='float32')\n",
    "        embeddings_index[word] = coefs"
   ]
  },
  {
   "cell_type": "markdown",
   "metadata": {},
   "source": [
    "### Our word integer index as look-up in the embedding matrix"
   ]
  },
  {
   "cell_type": "code",
   "execution_count": 17,
   "metadata": {},
   "outputs": [],
   "source": [
    "num_words = min(MAX_NUM_WORDS, len(word_index) + 1)\n",
    "embedding_matrix = np.zeros((num_words, EMBEDDING_DIM))\n",
    "for word, i in word_index.items():\n",
    "    if i >= MAX_NUM_WORDS:\n",
    "        continue\n",
    "    embedding_vector = embeddings_index.get(word)\n",
    "    if embedding_vector is not None:\n",
    "        # words not found in embedding index will be all-zeros.\n",
    "        embedding_matrix[i] = embedding_vector\n"
   ]
  },
  {
   "cell_type": "markdown",
   "metadata": {},
   "source": [
    "### Build the Model"
   ]
  },
  {
   "cell_type": "code",
   "execution_count": 18,
   "metadata": {},
   "outputs": [],
   "source": [
    "embedding_layer = Embedding(num_words,\n",
    "                            EMBEDDING_DIM,\n",
    "                            weights=[embedding_matrix],\n",
    "                            input_length=MAX_SEQUENCE_LENGTH,\n",
    "                            trainable=False)\n"
   ]
  },
  {
   "cell_type": "code",
   "execution_count": 19,
   "metadata": {
    "scrolled": false
   },
   "outputs": [
    {
     "name": "stdout",
     "output_type": "stream",
     "text": [
      "Building model with lstm_units 64 dropout 0.2 recurrent_dropout 0.2 optimizer rmsprop\n",
      "Building model with lstm_units 64 dropout 0.2 recurrent_dropout 0.2 optimizer rmsprop\n",
      "Building model with lstm_units 64 dropout 0.2 recurrent_dropout 0.2 optimizer rmsprop\n",
      "Building model with lstm_units 64 dropout 0.2 recurrent_dropout 0.5 optimizer rmsprop\n",
      "Building model with lstm_units 64 dropout 0.2 recurrent_dropout 0.5 optimizer rmsprop\n",
      "Building model with lstm_units 64 dropout 0.2 recurrent_dropout 0.5 optimizer rmsprop\n",
      "Building model with lstm_units 64 dropout 0.2 recurrent_dropout 0.2 optimizer adam\n",
      "Building model with lstm_units 64 dropout 0.2 recurrent_dropout 0.2 optimizer adam\n",
      "Building model with lstm_units 64 dropout 0.2 recurrent_dropout 0.2 optimizer adam\n",
      "Building model with lstm_units 64 dropout 0.2 recurrent_dropout 0.5 optimizer adam\n",
      "Building model with lstm_units 64 dropout 0.2 recurrent_dropout 0.5 optimizer adam\n",
      "Building model with lstm_units 64 dropout 0.2 recurrent_dropout 0.5 optimizer adam\n",
      "Building model with lstm_units 128 dropout 0.2 recurrent_dropout 0.2 optimizer rmsprop\n",
      "Building model with lstm_units 128 dropout 0.2 recurrent_dropout 0.2 optimizer rmsprop\n",
      "Building model with lstm_units 128 dropout 0.2 recurrent_dropout 0.2 optimizer rmsprop\n",
      "Building model with lstm_units 128 dropout 0.2 recurrent_dropout 0.5 optimizer rmsprop\n",
      "Building model with lstm_units 128 dropout 0.2 recurrent_dropout 0.5 optimizer rmsprop\n",
      "Building model with lstm_units 128 dropout 0.2 recurrent_dropout 0.5 optimizer rmsprop\n",
      "Building model with lstm_units 128 dropout 0.2 recurrent_dropout 0.2 optimizer adam\n",
      "Building model with lstm_units 128 dropout 0.2 recurrent_dropout 0.2 optimizer adam\n",
      "Building model with lstm_units 128 dropout 0.2 recurrent_dropout 0.2 optimizer adam\n",
      "Building model with lstm_units 128 dropout 0.2 recurrent_dropout 0.5 optimizer adam\n",
      "Building model with lstm_units 128 dropout 0.2 recurrent_dropout 0.5 optimizer adam\n",
      "Building model with lstm_units 128 dropout 0.2 recurrent_dropout 0.5 optimizer adam\n",
      "Building model with lstm_units 256 dropout 0.2 recurrent_dropout 0.2 optimizer rmsprop\n",
      "Building model with lstm_units 256 dropout 0.2 recurrent_dropout 0.2 optimizer rmsprop\n",
      "Building model with lstm_units 256 dropout 0.2 recurrent_dropout 0.2 optimizer rmsprop\n",
      "Building model with lstm_units 256 dropout 0.2 recurrent_dropout 0.5 optimizer rmsprop\n",
      "Building model with lstm_units 256 dropout 0.2 recurrent_dropout 0.5 optimizer rmsprop\n",
      "Building model with lstm_units 256 dropout 0.2 recurrent_dropout 0.5 optimizer rmsprop\n",
      "Building model with lstm_units 256 dropout 0.2 recurrent_dropout 0.2 optimizer adam\n",
      "Building model with lstm_units 256 dropout 0.2 recurrent_dropout 0.2 optimizer adam\n",
      "Building model with lstm_units 256 dropout 0.2 recurrent_dropout 0.2 optimizer adam\n",
      "Building model with lstm_units 256 dropout 0.2 recurrent_dropout 0.5 optimizer adam\n",
      "Building model with lstm_units 256 dropout 0.2 recurrent_dropout 0.5 optimizer adam\n",
      "Building model with lstm_units 256 dropout 0.2 recurrent_dropout 0.5 optimizer adam\n",
      "Building model with lstm_units 64 dropout 0.2 recurrent_dropout 0.2 optimizer rmsprop\n",
      "Building model with lstm_units 64 dropout 0.2 recurrent_dropout 0.2 optimizer rmsprop\n",
      "Building model with lstm_units 64 dropout 0.2 recurrent_dropout 0.2 optimizer rmsprop\n",
      "Building model with lstm_units 64 dropout 0.2 recurrent_dropout 0.5 optimizer rmsprop\n",
      "Building model with lstm_units 64 dropout 0.2 recurrent_dropout 0.5 optimizer rmsprop\n",
      "Building model with lstm_units 64 dropout 0.2 recurrent_dropout 0.5 optimizer rmsprop\n",
      "Building model with lstm_units 64 dropout 0.2 recurrent_dropout 0.2 optimizer adam\n",
      "Building model with lstm_units 64 dropout 0.2 recurrent_dropout 0.2 optimizer adam\n",
      "Building model with lstm_units 64 dropout 0.2 recurrent_dropout 0.2 optimizer adam\n",
      "Building model with lstm_units 64 dropout 0.2 recurrent_dropout 0.5 optimizer adam\n",
      "Building model with lstm_units 64 dropout 0.2 recurrent_dropout 0.5 optimizer adam\n",
      "Building model with lstm_units 64 dropout 0.2 recurrent_dropout 0.5 optimizer adam\n",
      "Building model with lstm_units 128 dropout 0.2 recurrent_dropout 0.2 optimizer rmsprop\n",
      "Building model with lstm_units 128 dropout 0.2 recurrent_dropout 0.2 optimizer rmsprop\n",
      "Building model with lstm_units 128 dropout 0.2 recurrent_dropout 0.2 optimizer rmsprop\n",
      "Building model with lstm_units 128 dropout 0.2 recurrent_dropout 0.5 optimizer rmsprop\n",
      "Building model with lstm_units 128 dropout 0.2 recurrent_dropout 0.5 optimizer rmsprop\n",
      "Building model with lstm_units 128 dropout 0.2 recurrent_dropout 0.5 optimizer rmsprop\n",
      "Building model with lstm_units 128 dropout 0.2 recurrent_dropout 0.2 optimizer adam\n",
      "Building model with lstm_units 128 dropout 0.2 recurrent_dropout 0.2 optimizer adam\n",
      "Building model with lstm_units 128 dropout 0.2 recurrent_dropout 0.2 optimizer adam\n",
      "Building model with lstm_units 128 dropout 0.2 recurrent_dropout 0.5 optimizer adam\n",
      "Building model with lstm_units 128 dropout 0.2 recurrent_dropout 0.5 optimizer adam\n",
      "Building model with lstm_units 128 dropout 0.2 recurrent_dropout 0.5 optimizer adam\n",
      "Building model with lstm_units 256 dropout 0.2 recurrent_dropout 0.2 optimizer rmsprop\n",
      "Building model with lstm_units 256 dropout 0.2 recurrent_dropout 0.2 optimizer rmsprop\n",
      "Building model with lstm_units 256 dropout 0.2 recurrent_dropout 0.2 optimizer rmsprop\n",
      "Building model with lstm_units 256 dropout 0.2 recurrent_dropout 0.5 optimizer rmsprop\n",
      "Building model with lstm_units 256 dropout 0.2 recurrent_dropout 0.5 optimizer rmsprop\n",
      "Building model with lstm_units 256 dropout 0.2 recurrent_dropout 0.5 optimizer rmsprop\n",
      "Building model with lstm_units 256 dropout 0.2 recurrent_dropout 0.2 optimizer adam\n",
      "Building model with lstm_units 256 dropout 0.2 recurrent_dropout 0.2 optimizer adam\n",
      "Building model with lstm_units 256 dropout 0.2 recurrent_dropout 0.2 optimizer adam\n",
      "Building model with lstm_units 256 dropout 0.2 recurrent_dropout 0.5 optimizer adam\n",
      "Building model with lstm_units 256 dropout 0.2 recurrent_dropout 0.5 optimizer adam\n",
      "Building model with lstm_units 256 dropout 0.2 recurrent_dropout 0.5 optimizer adam\n",
      "Building model with lstm_units 64 dropout 0.5 recurrent_dropout 0.2 optimizer rmsprop\n",
      "Building model with lstm_units 64 dropout 0.5 recurrent_dropout 0.2 optimizer rmsprop\n",
      "Building model with lstm_units 64 dropout 0.5 recurrent_dropout 0.2 optimizer rmsprop\n",
      "Building model with lstm_units 64 dropout 0.5 recurrent_dropout 0.5 optimizer rmsprop\n",
      "Building model with lstm_units 64 dropout 0.5 recurrent_dropout 0.5 optimizer rmsprop\n",
      "Building model with lstm_units 64 dropout 0.5 recurrent_dropout 0.5 optimizer rmsprop\n",
      "Building model with lstm_units 64 dropout 0.5 recurrent_dropout 0.2 optimizer adam\n",
      "Building model with lstm_units 64 dropout 0.5 recurrent_dropout 0.2 optimizer adam\n",
      "Building model with lstm_units 64 dropout 0.5 recurrent_dropout 0.2 optimizer adam\n",
      "Building model with lstm_units 64 dropout 0.5 recurrent_dropout 0.5 optimizer adam\n",
      "Building model with lstm_units 64 dropout 0.5 recurrent_dropout 0.5 optimizer adam\n",
      "Building model with lstm_units 64 dropout 0.5 recurrent_dropout 0.5 optimizer adam\n",
      "Building model with lstm_units 128 dropout 0.5 recurrent_dropout 0.2 optimizer rmsprop\n",
      "Building model with lstm_units 128 dropout 0.5 recurrent_dropout 0.2 optimizer rmsprop\n",
      "Building model with lstm_units 128 dropout 0.5 recurrent_dropout 0.2 optimizer rmsprop\n",
      "Building model with lstm_units 128 dropout 0.5 recurrent_dropout 0.5 optimizer rmsprop\n",
      "Building model with lstm_units 128 dropout 0.5 recurrent_dropout 0.5 optimizer rmsprop\n",
      "Building model with lstm_units 128 dropout 0.5 recurrent_dropout 0.5 optimizer rmsprop\n",
      "Building model with lstm_units 128 dropout 0.5 recurrent_dropout 0.2 optimizer adam\n",
      "Building model with lstm_units 128 dropout 0.5 recurrent_dropout 0.2 optimizer adam\n",
      "Building model with lstm_units 128 dropout 0.5 recurrent_dropout 0.2 optimizer adam\n",
      "Building model with lstm_units 128 dropout 0.5 recurrent_dropout 0.5 optimizer adam\n",
      "Building model with lstm_units 128 dropout 0.5 recurrent_dropout 0.5 optimizer adam\n",
      "Building model with lstm_units 128 dropout 0.5 recurrent_dropout 0.5 optimizer adam\n",
      "Building model with lstm_units 256 dropout 0.5 recurrent_dropout 0.2 optimizer rmsprop\n"
     ]
    },
    {
     "name": "stdout",
     "output_type": "stream",
     "text": [
      "Building model with lstm_units 256 dropout 0.5 recurrent_dropout 0.2 optimizer rmsprop\n",
      "Building model with lstm_units 256 dropout 0.5 recurrent_dropout 0.2 optimizer rmsprop\n",
      "Building model with lstm_units 256 dropout 0.5 recurrent_dropout 0.5 optimizer rmsprop\n",
      "Building model with lstm_units 256 dropout 0.5 recurrent_dropout 0.5 optimizer rmsprop\n",
      "Building model with lstm_units 256 dropout 0.5 recurrent_dropout 0.5 optimizer rmsprop\n",
      "Building model with lstm_units 256 dropout 0.5 recurrent_dropout 0.2 optimizer adam\n",
      "Building model with lstm_units 256 dropout 0.5 recurrent_dropout 0.2 optimizer adam\n",
      "Building model with lstm_units 256 dropout 0.5 recurrent_dropout 0.2 optimizer adam\n",
      "Building model with lstm_units 256 dropout 0.5 recurrent_dropout 0.5 optimizer adam\n",
      "Building model with lstm_units 256 dropout 0.5 recurrent_dropout 0.5 optimizer adam\n",
      "Building model with lstm_units 256 dropout 0.5 recurrent_dropout 0.5 optimizer adam\n",
      "Building model with lstm_units 64 dropout 0.5 recurrent_dropout 0.2 optimizer rmsprop\n",
      "Building model with lstm_units 64 dropout 0.5 recurrent_dropout 0.2 optimizer rmsprop\n",
      "Building model with lstm_units 64 dropout 0.5 recurrent_dropout 0.2 optimizer rmsprop\n",
      "Building model with lstm_units 64 dropout 0.5 recurrent_dropout 0.5 optimizer rmsprop\n",
      "Building model with lstm_units 64 dropout 0.5 recurrent_dropout 0.5 optimizer rmsprop\n",
      "Building model with lstm_units 64 dropout 0.5 recurrent_dropout 0.5 optimizer rmsprop\n",
      "Building model with lstm_units 64 dropout 0.5 recurrent_dropout 0.2 optimizer adam\n",
      "Building model with lstm_units 64 dropout 0.5 recurrent_dropout 0.2 optimizer adam\n",
      "Building model with lstm_units 64 dropout 0.5 recurrent_dropout 0.2 optimizer adam\n",
      "Building model with lstm_units 64 dropout 0.5 recurrent_dropout 0.5 optimizer adam\n",
      "Building model with lstm_units 64 dropout 0.5 recurrent_dropout 0.5 optimizer adam\n",
      "Building model with lstm_units 64 dropout 0.5 recurrent_dropout 0.5 optimizer adam\n",
      "Building model with lstm_units 128 dropout 0.5 recurrent_dropout 0.2 optimizer rmsprop\n",
      "Building model with lstm_units 128 dropout 0.5 recurrent_dropout 0.2 optimizer rmsprop\n",
      "Building model with lstm_units 128 dropout 0.5 recurrent_dropout 0.2 optimizer rmsprop\n",
      "Building model with lstm_units 128 dropout 0.5 recurrent_dropout 0.5 optimizer rmsprop\n",
      "Building model with lstm_units 128 dropout 0.5 recurrent_dropout 0.5 optimizer rmsprop\n",
      "Building model with lstm_units 128 dropout 0.5 recurrent_dropout 0.5 optimizer rmsprop\n",
      "Building model with lstm_units 128 dropout 0.5 recurrent_dropout 0.2 optimizer adam\n",
      "Building model with lstm_units 128 dropout 0.5 recurrent_dropout 0.2 optimizer adam\n",
      "Building model with lstm_units 128 dropout 0.5 recurrent_dropout 0.2 optimizer adam\n",
      "Building model with lstm_units 128 dropout 0.5 recurrent_dropout 0.5 optimizer adam\n",
      "Building model with lstm_units 128 dropout 0.5 recurrent_dropout 0.5 optimizer adam\n",
      "Building model with lstm_units 128 dropout 0.5 recurrent_dropout 0.5 optimizer adam\n",
      "Building model with lstm_units 256 dropout 0.5 recurrent_dropout 0.2 optimizer rmsprop\n",
      "Building model with lstm_units 256 dropout 0.5 recurrent_dropout 0.2 optimizer rmsprop\n",
      "Building model with lstm_units 256 dropout 0.5 recurrent_dropout 0.2 optimizer rmsprop\n",
      "Building model with lstm_units 256 dropout 0.5 recurrent_dropout 0.5 optimizer rmsprop\n",
      "Building model with lstm_units 256 dropout 0.5 recurrent_dropout 0.5 optimizer rmsprop\n",
      "Building model with lstm_units 256 dropout 0.5 recurrent_dropout 0.5 optimizer rmsprop\n",
      "Building model with lstm_units 256 dropout 0.5 recurrent_dropout 0.2 optimizer adam\n",
      "Building model with lstm_units 256 dropout 0.5 recurrent_dropout 0.2 optimizer adam\n",
      "Building model with lstm_units 256 dropout 0.5 recurrent_dropout 0.2 optimizer adam\n",
      "Building model with lstm_units 256 dropout 0.5 recurrent_dropout 0.5 optimizer adam\n",
      "Building model with lstm_units 256 dropout 0.5 recurrent_dropout 0.5 optimizer adam\n",
      "Building model with lstm_units 256 dropout 0.5 recurrent_dropout 0.5 optimizer adam\n",
      "Building model with lstm_units 64 dropout 0.2 recurrent_dropout 0.2 optimizer rmsprop\n",
      "Building model with lstm_units 64 dropout 0.2 recurrent_dropout 0.2 optimizer rmsprop\n",
      "Building model with lstm_units 64 dropout 0.2 recurrent_dropout 0.2 optimizer rmsprop\n",
      "Building model with lstm_units 64 dropout 0.2 recurrent_dropout 0.5 optimizer rmsprop\n",
      "Building model with lstm_units 64 dropout 0.2 recurrent_dropout 0.5 optimizer rmsprop\n",
      "Building model with lstm_units 64 dropout 0.2 recurrent_dropout 0.5 optimizer rmsprop\n",
      "Building model with lstm_units 64 dropout 0.2 recurrent_dropout 0.2 optimizer adam\n",
      "Building model with lstm_units 64 dropout 0.2 recurrent_dropout 0.2 optimizer adam\n",
      "Building model with lstm_units 64 dropout 0.2 recurrent_dropout 0.2 optimizer adam\n",
      "Building model with lstm_units 64 dropout 0.2 recurrent_dropout 0.5 optimizer adam\n",
      "Building model with lstm_units 64 dropout 0.2 recurrent_dropout 0.5 optimizer adam\n",
      "Building model with lstm_units 64 dropout 0.2 recurrent_dropout 0.5 optimizer adam\n",
      "Building model with lstm_units 128 dropout 0.2 recurrent_dropout 0.2 optimizer rmsprop\n",
      "Building model with lstm_units 128 dropout 0.2 recurrent_dropout 0.2 optimizer rmsprop\n",
      "Building model with lstm_units 128 dropout 0.2 recurrent_dropout 0.2 optimizer rmsprop\n",
      "Building model with lstm_units 128 dropout 0.2 recurrent_dropout 0.5 optimizer rmsprop\n",
      "Building model with lstm_units 128 dropout 0.2 recurrent_dropout 0.5 optimizer rmsprop\n",
      "Building model with lstm_units 128 dropout 0.2 recurrent_dropout 0.5 optimizer rmsprop\n",
      "Building model with lstm_units 128 dropout 0.2 recurrent_dropout 0.2 optimizer adam\n",
      "Building model with lstm_units 128 dropout 0.2 recurrent_dropout 0.2 optimizer adam\n",
      "Building model with lstm_units 128 dropout 0.2 recurrent_dropout 0.2 optimizer adam\n",
      "Building model with lstm_units 128 dropout 0.2 recurrent_dropout 0.5 optimizer adam\n",
      "Building model with lstm_units 128 dropout 0.2 recurrent_dropout 0.5 optimizer adam\n",
      "Building model with lstm_units 128 dropout 0.2 recurrent_dropout 0.5 optimizer adam\n",
      "Building model with lstm_units 256 dropout 0.2 recurrent_dropout 0.2 optimizer rmsprop\n",
      "Building model with lstm_units 256 dropout 0.2 recurrent_dropout 0.2 optimizer rmsprop\n",
      "Building model with lstm_units 256 dropout 0.2 recurrent_dropout 0.2 optimizer rmsprop\n",
      "Building model with lstm_units 256 dropout 0.2 recurrent_dropout 0.5 optimizer rmsprop\n",
      "Building model with lstm_units 256 dropout 0.2 recurrent_dropout 0.5 optimizer rmsprop\n",
      "Building model with lstm_units 256 dropout 0.2 recurrent_dropout 0.5 optimizer rmsprop\n",
      "Building model with lstm_units 256 dropout 0.2 recurrent_dropout 0.2 optimizer adam\n",
      "Building model with lstm_units 256 dropout 0.2 recurrent_dropout 0.2 optimizer adam\n",
      "Building model with lstm_units 256 dropout 0.2 recurrent_dropout 0.2 optimizer adam\n",
      "Building model with lstm_units 256 dropout 0.2 recurrent_dropout 0.5 optimizer adam\n",
      "Building model with lstm_units 256 dropout 0.2 recurrent_dropout 0.5 optimizer adam\n",
      "Building model with lstm_units 256 dropout 0.2 recurrent_dropout 0.5 optimizer adam\n",
      "Building model with lstm_units 64 dropout 0.2 recurrent_dropout 0.2 optimizer rmsprop\n",
      "Building model with lstm_units 64 dropout 0.2 recurrent_dropout 0.2 optimizer rmsprop\n",
      "Building model with lstm_units 64 dropout 0.2 recurrent_dropout 0.2 optimizer rmsprop\n",
      "Building model with lstm_units 64 dropout 0.2 recurrent_dropout 0.5 optimizer rmsprop\n",
      "Building model with lstm_units 64 dropout 0.2 recurrent_dropout 0.5 optimizer rmsprop\n",
      "Building model with lstm_units 64 dropout 0.2 recurrent_dropout 0.5 optimizer rmsprop\n",
      "Building model with lstm_units 64 dropout 0.2 recurrent_dropout 0.2 optimizer adam\n",
      "Building model with lstm_units 64 dropout 0.2 recurrent_dropout 0.2 optimizer adam\n",
      "Building model with lstm_units 64 dropout 0.2 recurrent_dropout 0.2 optimizer adam\n",
      "Building model with lstm_units 64 dropout 0.2 recurrent_dropout 0.5 optimizer adam\n",
      "Building model with lstm_units 64 dropout 0.2 recurrent_dropout 0.5 optimizer adam\n",
      "Building model with lstm_units 64 dropout 0.2 recurrent_dropout 0.5 optimizer adam\n",
      "Building model with lstm_units 128 dropout 0.2 recurrent_dropout 0.2 optimizer rmsprop\n",
      "Building model with lstm_units 128 dropout 0.2 recurrent_dropout 0.2 optimizer rmsprop\n"
     ]
    },
    {
     "name": "stdout",
     "output_type": "stream",
     "text": [
      "Building model with lstm_units 128 dropout 0.2 recurrent_dropout 0.2 optimizer rmsprop\n",
      "Building model with lstm_units 128 dropout 0.2 recurrent_dropout 0.5 optimizer rmsprop\n",
      "Building model with lstm_units 128 dropout 0.2 recurrent_dropout 0.5 optimizer rmsprop\n",
      "Building model with lstm_units 128 dropout 0.2 recurrent_dropout 0.5 optimizer rmsprop\n",
      "Building model with lstm_units 128 dropout 0.2 recurrent_dropout 0.2 optimizer adam\n",
      "Building model with lstm_units 128 dropout 0.2 recurrent_dropout 0.2 optimizer adam\n",
      "Building model with lstm_units 128 dropout 0.2 recurrent_dropout 0.2 optimizer adam\n",
      "Building model with lstm_units 128 dropout 0.2 recurrent_dropout 0.5 optimizer adam\n",
      "Building model with lstm_units 128 dropout 0.2 recurrent_dropout 0.5 optimizer adam\n",
      "Building model with lstm_units 128 dropout 0.2 recurrent_dropout 0.5 optimizer adam\n",
      "Building model with lstm_units 256 dropout 0.2 recurrent_dropout 0.2 optimizer rmsprop\n",
      "Building model with lstm_units 256 dropout 0.2 recurrent_dropout 0.2 optimizer rmsprop\n",
      "Building model with lstm_units 256 dropout 0.2 recurrent_dropout 0.2 optimizer rmsprop\n",
      "Building model with lstm_units 256 dropout 0.2 recurrent_dropout 0.5 optimizer rmsprop\n",
      "Building model with lstm_units 256 dropout 0.2 recurrent_dropout 0.5 optimizer rmsprop\n",
      "Building model with lstm_units 256 dropout 0.2 recurrent_dropout 0.5 optimizer rmsprop\n",
      "Building model with lstm_units 256 dropout 0.2 recurrent_dropout 0.2 optimizer adam\n",
      "Building model with lstm_units 256 dropout 0.2 recurrent_dropout 0.2 optimizer adam\n",
      "Building model with lstm_units 256 dropout 0.2 recurrent_dropout 0.2 optimizer adam\n",
      "Building model with lstm_units 256 dropout 0.2 recurrent_dropout 0.5 optimizer adam\n",
      "Building model with lstm_units 256 dropout 0.2 recurrent_dropout 0.5 optimizer adam\n",
      "Building model with lstm_units 256 dropout 0.2 recurrent_dropout 0.5 optimizer adam\n",
      "Building model with lstm_units 64 dropout 0.5 recurrent_dropout 0.2 optimizer rmsprop\n",
      "Building model with lstm_units 64 dropout 0.5 recurrent_dropout 0.2 optimizer rmsprop\n",
      "Building model with lstm_units 64 dropout 0.5 recurrent_dropout 0.2 optimizer rmsprop\n",
      "Building model with lstm_units 64 dropout 0.5 recurrent_dropout 0.5 optimizer rmsprop\n",
      "Building model with lstm_units 64 dropout 0.5 recurrent_dropout 0.5 optimizer rmsprop\n",
      "Building model with lstm_units 64 dropout 0.5 recurrent_dropout 0.5 optimizer rmsprop\n",
      "Building model with lstm_units 64 dropout 0.5 recurrent_dropout 0.2 optimizer adam\n",
      "Building model with lstm_units 64 dropout 0.5 recurrent_dropout 0.2 optimizer adam\n",
      "Building model with lstm_units 64 dropout 0.5 recurrent_dropout 0.2 optimizer adam\n",
      "Building model with lstm_units 64 dropout 0.5 recurrent_dropout 0.5 optimizer adam\n",
      "Building model with lstm_units 64 dropout 0.5 recurrent_dropout 0.5 optimizer adam\n",
      "Building model with lstm_units 64 dropout 0.5 recurrent_dropout 0.5 optimizer adam\n",
      "Building model with lstm_units 128 dropout 0.5 recurrent_dropout 0.2 optimizer rmsprop\n",
      "Building model with lstm_units 128 dropout 0.5 recurrent_dropout 0.2 optimizer rmsprop\n",
      "Building model with lstm_units 128 dropout 0.5 recurrent_dropout 0.2 optimizer rmsprop\n",
      "Building model with lstm_units 128 dropout 0.5 recurrent_dropout 0.5 optimizer rmsprop\n",
      "Building model with lstm_units 128 dropout 0.5 recurrent_dropout 0.5 optimizer rmsprop\n",
      "Building model with lstm_units 128 dropout 0.5 recurrent_dropout 0.5 optimizer rmsprop\n",
      "Building model with lstm_units 128 dropout 0.5 recurrent_dropout 0.2 optimizer adam\n",
      "Building model with lstm_units 128 dropout 0.5 recurrent_dropout 0.2 optimizer adam\n",
      "Building model with lstm_units 128 dropout 0.5 recurrent_dropout 0.2 optimizer adam\n",
      "Building model with lstm_units 128 dropout 0.5 recurrent_dropout 0.5 optimizer adam\n",
      "Building model with lstm_units 128 dropout 0.5 recurrent_dropout 0.5 optimizer adam\n",
      "Building model with lstm_units 128 dropout 0.5 recurrent_dropout 0.5 optimizer adam\n",
      "Building model with lstm_units 256 dropout 0.5 recurrent_dropout 0.2 optimizer rmsprop\n",
      "Building model with lstm_units 256 dropout 0.5 recurrent_dropout 0.2 optimizer rmsprop\n",
      "Building model with lstm_units 256 dropout 0.5 recurrent_dropout 0.2 optimizer rmsprop\n",
      "Building model with lstm_units 256 dropout 0.5 recurrent_dropout 0.5 optimizer rmsprop\n",
      "Building model with lstm_units 256 dropout 0.5 recurrent_dropout 0.5 optimizer rmsprop\n",
      "Building model with lstm_units 256 dropout 0.5 recurrent_dropout 0.5 optimizer rmsprop\n",
      "Building model with lstm_units 256 dropout 0.5 recurrent_dropout 0.2 optimizer adam\n",
      "Building model with lstm_units 256 dropout 0.5 recurrent_dropout 0.2 optimizer adam\n",
      "Building model with lstm_units 256 dropout 0.5 recurrent_dropout 0.2 optimizer adam\n",
      "Building model with lstm_units 256 dropout 0.5 recurrent_dropout 0.5 optimizer adam\n",
      "Building model with lstm_units 256 dropout 0.5 recurrent_dropout 0.5 optimizer adam\n",
      "Building model with lstm_units 256 dropout 0.5 recurrent_dropout 0.5 optimizer adam\n",
      "Building model with lstm_units 64 dropout 0.5 recurrent_dropout 0.2 optimizer rmsprop\n",
      "Building model with lstm_units 64 dropout 0.5 recurrent_dropout 0.2 optimizer rmsprop\n",
      "Building model with lstm_units 64 dropout 0.5 recurrent_dropout 0.2 optimizer rmsprop\n",
      "Building model with lstm_units 64 dropout 0.5 recurrent_dropout 0.5 optimizer rmsprop\n",
      "Building model with lstm_units 64 dropout 0.5 recurrent_dropout 0.5 optimizer rmsprop\n",
      "Building model with lstm_units 64 dropout 0.5 recurrent_dropout 0.5 optimizer rmsprop\n",
      "Building model with lstm_units 64 dropout 0.5 recurrent_dropout 0.2 optimizer adam\n",
      "Building model with lstm_units 64 dropout 0.5 recurrent_dropout 0.2 optimizer adam\n",
      "Building model with lstm_units 64 dropout 0.5 recurrent_dropout 0.2 optimizer adam\n",
      "Building model with lstm_units 64 dropout 0.5 recurrent_dropout 0.5 optimizer adam\n",
      "Building model with lstm_units 64 dropout 0.5 recurrent_dropout 0.5 optimizer adam\n",
      "Building model with lstm_units 64 dropout 0.5 recurrent_dropout 0.5 optimizer adam\n",
      "Building model with lstm_units 128 dropout 0.5 recurrent_dropout 0.2 optimizer rmsprop\n",
      "Building model with lstm_units 128 dropout 0.5 recurrent_dropout 0.2 optimizer rmsprop\n",
      "Building model with lstm_units 128 dropout 0.5 recurrent_dropout 0.2 optimizer rmsprop\n",
      "Building model with lstm_units 128 dropout 0.5 recurrent_dropout 0.5 optimizer rmsprop\n",
      "Building model with lstm_units 128 dropout 0.5 recurrent_dropout 0.5 optimizer rmsprop\n",
      "Building model with lstm_units 128 dropout 0.5 recurrent_dropout 0.5 optimizer rmsprop\n",
      "Building model with lstm_units 128 dropout 0.5 recurrent_dropout 0.2 optimizer adam\n",
      "Building model with lstm_units 128 dropout 0.5 recurrent_dropout 0.2 optimizer adam\n",
      "Building model with lstm_units 128 dropout 0.5 recurrent_dropout 0.2 optimizer adam\n",
      "Building model with lstm_units 128 dropout 0.5 recurrent_dropout 0.5 optimizer adam\n",
      "Building model with lstm_units 128 dropout 0.5 recurrent_dropout 0.5 optimizer adam\n",
      "Building model with lstm_units 128 dropout 0.5 recurrent_dropout 0.5 optimizer adam\n",
      "Building model with lstm_units 256 dropout 0.5 recurrent_dropout 0.2 optimizer rmsprop\n",
      "Building model with lstm_units 256 dropout 0.5 recurrent_dropout 0.2 optimizer rmsprop\n",
      "Building model with lstm_units 256 dropout 0.5 recurrent_dropout 0.2 optimizer rmsprop\n",
      "Building model with lstm_units 256 dropout 0.5 recurrent_dropout 0.5 optimizer rmsprop\n",
      "Building model with lstm_units 256 dropout 0.5 recurrent_dropout 0.5 optimizer rmsprop\n",
      "Building model with lstm_units 256 dropout 0.5 recurrent_dropout 0.5 optimizer rmsprop\n",
      "Building model with lstm_units 256 dropout 0.5 recurrent_dropout 0.2 optimizer adam\n",
      "Building model with lstm_units 256 dropout 0.5 recurrent_dropout 0.2 optimizer adam\n",
      "Building model with lstm_units 256 dropout 0.5 recurrent_dropout 0.2 optimizer adam\n",
      "Building model with lstm_units 256 dropout 0.5 recurrent_dropout 0.5 optimizer adam\n",
      "Building model with lstm_units 256 dropout 0.5 recurrent_dropout 0.5 optimizer adam\n",
      "Building model with lstm_units 256 dropout 0.5 recurrent_dropout 0.5 optimizer adam\n",
      "Building model with lstm_units 128 dropout 0.2 recurrent_dropout 0.5 optimizer rmsprop\n",
      "Parameters of the best model: \n",
      "{'batch_size': 32, 'dropout': 0.2, 'epochs': 30, 'lstm_units': 128, 'optimizer': 'rmsprop', 'recurrent_dropout': 0.5}\n"
     ]
    }
   ],
   "source": [
    "from keras.wrappers.scikit_learn import KerasClassifier\n",
    "from sklearn.model_selection import GridSearchCV\n",
    "\n",
    "def build_model(lstm_units=128,\n",
    "                dropout=0.5,\n",
    "                recurrent_dropout=0.2,\n",
    "                optimizer='rmsprop'):\n",
    "    \n",
    "    print (f\"Building model with lstm_units {lstm_units} dropout {dropout} recurrent_dropout {recurrent_dropout} optimizer {optimizer}\")\n",
    "    sequence_input = Input(shape=(MAX_SEQUENCE_LENGTH,), dtype='int32')\n",
    "    embedded_sequences = embedding_layer(sequence_input)\n",
    "    X = SpatialDropout1D(0.4)(embedded_sequences)\n",
    "    X = LSTM(lstm_units, dropout=dropout, recurrent_dropout=0.2)(X)\n",
    "    X = Dense(2, activation='softmax')(X)\n",
    "\n",
    "    model = Model(sequence_input, X)\n",
    "    \n",
    "    model.compile(optimizer = optimizer,\n",
    "                  loss='categorical_crossentropy',\n",
    "                  metrics=['accuracy'])\n",
    "    \n",
    "    return model\n",
    "    \n",
    "model = KerasClassifier(build_fn=build_model,\n",
    "                        epochs=10, \n",
    "                        batch_size=5,\n",
    "                        verbose=0)\n",
    "\n",
    "param_grid = {'lstm_units': [64, 128, 256],\n",
    "              'dropout' : [0.2,  0.5],\n",
    "              'recurrent_dropout' : [0.2, 0.5],\n",
    "              'optimizer':('rmsprop','adam'),\n",
    "              'epochs':[10, 30],\n",
    "              'batch_size':[32, 64]}\n",
    "\n",
    "grid = GridSearchCV(model,\n",
    "                    param_grid=param_grid,\n",
    "                    return_train_score=True,\n",
    "                    scoring=['precision_macro','recall_macro','f1_macro'],\n",
    "                    refit='precision_macro')\n",
    "\n",
    "grid_results = grid.fit(X_train_small, Y_train_small)\n",
    "\n",
    "print('Parameters of the best model: ')\n",
    "print(grid_results.best_params_)"
   ]
  },
  {
   "cell_type": "code",
   "execution_count": null,
   "metadata": {},
   "outputs": [],
   "source": [
    "grid_results"
   ]
  },
  {
   "cell_type": "code",
   "execution_count": null,
   "metadata": {},
   "outputs": [],
   "source": []
  }
 ],
 "metadata": {
  "kernelspec": {
   "display_name": "Python [conda env:ai]",
   "language": "python",
   "name": "conda-env-ai-py"
  },
  "language_info": {
   "codemirror_mode": {
    "name": "ipython",
    "version": 3
   },
   "file_extension": ".py",
   "mimetype": "text/x-python",
   "name": "python",
   "nbconvert_exporter": "python",
   "pygments_lexer": "ipython3",
   "version": "3.6.4"
  }
 },
 "nbformat": 4,
 "nbformat_minor": 2
}

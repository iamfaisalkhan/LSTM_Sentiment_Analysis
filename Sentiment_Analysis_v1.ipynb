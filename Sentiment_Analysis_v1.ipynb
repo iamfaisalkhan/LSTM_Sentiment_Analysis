{
 "cells": [
  {
   "cell_type": "code",
   "execution_count": 1,
   "metadata": {},
   "outputs": [
    {
     "name": "stderr",
     "output_type": "stream",
     "text": [
      "/home/faisal/anaconda3/envs/ai/lib/python3.6/site-packages/h5py/__init__.py:36: FutureWarning: Conversion of the second argument of issubdtype from `float` to `np.floating` is deprecated. In future, it will be treated as `np.float64 == np.dtype(float).type`.\n",
      "  from ._conv import register_converters as _register_converters\n",
      "Using TensorFlow backend.\n"
     ]
    }
   ],
   "source": [
    "import os\n",
    "import numpy as np\n",
    "import itertools\n",
    "\n",
    "\n",
    "from keras.preprocessing.text import Tokenizer\n",
    "from keras.preprocessing.sequence import pad_sequences\n",
    "from keras.utils import to_categorical\n",
    "\n",
    "from keras.layers import Dense, Input, GlobalMaxPooling1D, SpatialDropout1D\n",
    "from keras.layers import Conv1D, MaxPooling1D, Embedding, LSTM, Bidirectional\n",
    "from keras.models import Model"
   ]
  },
  {
   "cell_type": "code",
   "execution_count": 2,
   "metadata": {},
   "outputs": [],
   "source": [
    "import numpy as np\n",
    "import tensorflow as tf\n",
    "import random as rn\n",
    "\n",
    "# The below is necessary in Python 3.2.3 onwards to\n",
    "# have reproducible behavior for certain hash-based operations.\n",
    "# See these references for further details:\n",
    "# https://docs.python.org/3.4/using/cmdline.html#envvar-PYTHONHASHSEED\n",
    "# https://github.com/keras-team/keras/issues/2280#issuecomment-306959926\n",
    "\n",
    "import os\n",
    "os.environ['PYTHONHASHSEED'] = '0'\n",
    "# os.environ['CUDA_VISIBLE_DEVICES'] = '1'\n",
    "\n",
    "# The below is necessary for starting Numpy generated random numbers\n",
    "# in a well-defined initial state.\n",
    "\n",
    "np.random.seed(42)\n",
    "\n",
    "# The below is necessary for starting core Python generated random numbers\n",
    "# in a well-defined state.\n",
    "\n",
    "rn.seed(12345)\n",
    "\n",
    "# Force TensorFlow to use single thread.\n",
    "# Multiple threads are a potential source of\n",
    "# non-reproducible results.\n",
    "# For further details, see: https://stackoverflow.com/questions/42022950/which-seeds-have-to-be-set-where-to-realize-100-reproducibility-of-training-res\n",
    "\n",
    "session_conf = tf.ConfigProto(intra_op_parallelism_threads=1, inter_op_parallelism_threads=1)\n",
    "\n",
    "from keras import backend as K\n",
    "\n",
    "# The below tf.set_random_seed() will make random number generation\n",
    "# in the TensorFlow backend have a well-defined initial state.\n",
    "# For further details, see: https://www.tensorflow.org/api_docs/python/tf/set_random_seed\n",
    "\n",
    "tf.set_random_seed(1234)\n",
    "\n",
    "sess = tf.Session(graph=tf.get_default_graph(), config=session_conf)\n",
    "K.set_session(sess)"
   ]
  },
  {
   "cell_type": "code",
   "execution_count": 3,
   "metadata": {},
   "outputs": [],
   "source": [
    "DATA_DIR = './data'\n",
    "GLOVE_DIR = os.path.join(DATA_DIR, 'glove.6B')\n",
    "MAX_SEQUENCE_LENGTH = 15\n",
    "MAX_NUM_WORDS = 20000\n",
    "EMBEDDING_DIM = 300\n",
    "VALIDATION_SPLIT = 0.2\n"
   ]
  },
  {
   "cell_type": "markdown",
   "metadata": {},
   "source": [
    "### Loading the data"
   ]
  },
  {
   "cell_type": "code",
   "execution_count": 4,
   "metadata": {},
   "outputs": [],
   "source": [
    "data = []  # list of text samples\n",
    "texts = []\n",
    "labels = []\n",
    "\n",
    "for name in ['yelp_labelled.txt', 'imdb_labelled.txt', 'amazon_cells_labelled.txt']:\n",
    "    path = os.path.join(DATA_DIR, name)\n",
    "    with open(path) as f:\n",
    "        text = f.read()\n",
    "        texts.extend([d.split('\\t')[0] for d in [d for d in text.split('\\n')] if len(d) > 0])\n",
    "        labels.extend([int(d.split('\\t')[1]) for d in [d for d in text.split('\\n')] if len(d) > 0])"
   ]
  },
  {
   "cell_type": "code",
   "execution_count": 5,
   "metadata": {},
   "outputs": [],
   "source": [
    "texts = np.array(texts)\n",
    "labels = np.array(labels).astype(np.uint8)"
   ]
  },
  {
   "cell_type": "markdown",
   "metadata": {},
   "source": [
    "### Basic Text cleaning and stop words removal. "
   ]
  },
  {
   "cell_type": "code",
   "execution_count": 6,
   "metadata": {},
   "outputs": [
    {
     "name": "stdout",
     "output_type": "stream",
     "text": [
      "[nltk_data] Downloading package stopwords to /home/faisal/nltk_data...\n",
      "[nltk_data]   Package stopwords is already up-to-date!\n"
     ]
    }
   ],
   "source": [
    "import nltk\n",
    "nltk.download('stopwords')\n",
    "from nltk.corpus import stopwords\n"
   ]
  },
  {
   "cell_type": "code",
   "execution_count": 7,
   "metadata": {},
   "outputs": [],
   "source": [
    "import re\n",
    "from nltk.tokenize import WhitespaceTokenizer\n",
    "\n",
    "REPLACE_BY_SPACE_RE = re.compile('[/(){}\\[\\]\\|@,;]')\n",
    "BAD_SYMBOLS_RE = re.compile('[^0-9a-z #+_]')\n",
    "STOPWORDS = set(stopwords.words('english'))\n",
    "\n",
    "def text_prepare(text):\n",
    "    text = text.lower()\n",
    "    text = re.sub(REPLACE_BY_SPACE_RE, ' ', text)\n",
    "    text = re.sub(BAD_SYMBOLS_RE, '', text)\n",
    "    return WhitespaceTokenizer().tokenize(text)\n",
    "\n",
    "tkns = list(map(text_prepare, texts))\n"
   ]
  },
  {
   "cell_type": "code",
   "execution_count": 8,
   "metadata": {},
   "outputs": [],
   "source": [
    "counts = []\n",
    "for tkn in tkns:\n",
    "    counts.append(len(tkn))"
   ]
  },
  {
   "cell_type": "code",
   "execution_count": 9,
   "metadata": {},
   "outputs": [
    {
     "name": "stdout",
     "output_type": "stream",
     "text": [
      "Average sequence length  11.796333333333333\n"
     ]
    }
   ],
   "source": [
    "print (\"Average sequence length \", sum(counts)/len(counts))"
   ]
  },
  {
   "cell_type": "code",
   "execution_count": 10,
   "metadata": {},
   "outputs": [
    {
     "data": {
      "image/png": "[encoded data removed]",
      "text/plain": [
       "<Figure size 432x288 with 1 Axes>"
      ]
     },
     "metadata": {},
     "output_type": "display_data"
    }
   ],
   "source": [
    "import matplotlib.pyplot as plt\n",
    "%matplotlib inline\n",
    "plt.hist(counts, 30)\n",
    "plt.xlabel('Sequence Length')\n",
    "plt.ylabel('Frequency')\n",
    "# plt.axis([0, 1200, 0, 8000])\n",
    "plt.show()"
   ]
  },
  {
   "cell_type": "code",
   "execution_count": 11,
   "metadata": {},
   "outputs": [],
   "source": [
    "cleaned_text = [' '.join(tkn) for tkn in tkns]"
   ]
  },
  {
   "cell_type": "markdown",
   "metadata": {},
   "source": [
    "### Text to integer indices"
   ]
  },
  {
   "cell_type": "code",
   "execution_count": 12,
   "metadata": {},
   "outputs": [
    {
     "name": "stdout",
     "output_type": "stream",
     "text": [
      "Found 5374 unique tokens.\n",
      "Shape of data tensor: (3000, 15)\n",
      "Shape of label tensor: (3000,)\n"
     ]
    },
    {
     "name": "stderr",
     "output_type": "stream",
     "text": [
      "/home/faisal/anaconda3/envs/ai/lib/python3.6/site-packages/keras/preprocessing/text.py:157: UserWarning: The `nb_words` argument in `Tokenizer` has been renamed `num_words`.\n",
      "  warnings.warn('The `nb_words` argument in `Tokenizer` '\n"
     ]
    }
   ],
   "source": [
    "from keras.preprocessing.text import Tokenizer\n",
    "from keras.preprocessing.sequence import pad_sequences\n",
    "from keras.utils import to_categorical\n",
    "\n",
    "tokenizer = Tokenizer(nb_words=MAX_NUM_WORDS)\n",
    "tokenizer.fit_on_texts(cleaned_text)\n",
    "sequences = tokenizer.texts_to_sequences(cleaned_text)\n",
    "\n",
    "word_index = tokenizer.word_index\n",
    "print('Found %s unique tokens.' % len(word_index))\n",
    "\n",
    "data = pad_sequences(sequences, maxlen=MAX_SEQUENCE_LENGTH)\n",
    "\n",
    "clabels = to_categorical(np.asarray(labels))\n",
    "print('Shape of data tensor:', data.shape)\n",
    "print('Shape of label tensor:', labels.shape)"
   ]
  },
  {
   "cell_type": "code",
   "execution_count": 13,
   "metadata": {},
   "outputs": [],
   "source": [
    "import pickle\n",
    "\n",
    "# saving\n",
    "with open('tokenizer.pickle', 'wb') as handle:\n",
    "    pickle.dump(tokenizer, handle, protocol=pickle.HIGHEST_PROTOCOL)\n",
    "\n",
    "# loading\n",
    "# with open('tokenizer.pickle', 'rb') as handle:\n",
    "#     tokenizer = pickle.load(handle)\n"
   ]
  },
  {
   "cell_type": "code",
   "execution_count": 14,
   "metadata": {},
   "outputs": [],
   "source": [
    "indices = np.arange(data.shape[0])\n",
    "np.random.shuffle(indices)\n",
    "data = data[indices]\n",
    "clabels = clabels[indices]\n",
    "\n",
    "num_validation_samples = int(VALIDATION_SPLIT * data.shape[0])\n",
    "\n",
    "X_train = data[:-num_validation_samples]\n",
    "Y_train = clabels[:-num_validation_samples]\n",
    "# Non-hot-encoded labels for sklearn GridSearchCV because it does the hot encoding internally. \n",
    "Y_train_orig = labels[:-num_validation_samples]\n",
    "X_val = data[-num_validation_samples:]\n",
    "Y_val = clabels[-num_validation_samples:]\n"
   ]
  },
  {
   "cell_type": "code",
   "execution_count": 15,
   "metadata": {},
   "outputs": [
    {
     "data": {
      "text/plain": [
       "(1208,)"
      ]
     },
     "execution_count": 15,
     "metadata": {},
     "output_type": "execute_result"
    }
   ],
   "source": [
    "Y_train[:, 0].nonzero()[0].shape"
   ]
  },
  {
   "cell_type": "markdown",
   "metadata": {},
   "source": [
    "### Load pre-existing word embedding the word embeddings"
   ]
  },
  {
   "cell_type": "code",
   "execution_count": 16,
   "metadata": {},
   "outputs": [],
   "source": [
    "embeddings_index = {}\n",
    "with open(os.path.join(GLOVE_DIR, 'glove.6B.300d.txt')) as f:\n",
    "    for line in f:\n",
    "        values = line.split()\n",
    "        word = values[0]\n",
    "        coefs = np.asarray(values[1:], dtype='float32')\n",
    "        embeddings_index[word] = coefs"
   ]
  },
  {
   "cell_type": "markdown",
   "metadata": {},
   "source": [
    "### Our word integer index as look-up in the embedding matrix"
   ]
  },
  {
   "cell_type": "code",
   "execution_count": 17,
   "metadata": {},
   "outputs": [],
   "source": [
    "num_words = min(MAX_NUM_WORDS, len(word_index) + 1)\n",
    "embedding_matrix = np.zeros((num_words, EMBEDDING_DIM))\n",
    "for word, i in word_index.items():\n",
    "    if i >= MAX_NUM_WORDS:\n",
    "        continue\n",
    "    embedding_vector = embeddings_index.get(word)\n",
    "    if embedding_vector is not None:\n",
    "        # words not found in embedding index will be all-zeros.\n",
    "        embedding_matrix[i] = embedding_vector\n"
   ]
  },
  {
   "cell_type": "markdown",
   "metadata": {},
   "source": [
    "### Build the Model"
   ]
  },
  {
   "cell_type": "code",
   "execution_count": 18,
   "metadata": {},
   "outputs": [],
   "source": [
    "from sklearn.metrics import confusion_matrix, classification_report, accuracy_score\n",
    "\n",
    "def plot_history(history):\n",
    "    loss_list = [s for s in history.history.keys() if 'loss' in s and 'val' not in s]\n",
    "    val_loss_list = [s for s in history.history.keys() if 'loss' in s and 'val' in s]\n",
    "    acc_list = [s for s in history.history.keys() if 'acc' in s and 'val' not in s]\n",
    "    val_acc_list = [s for s in history.history.keys() if 'acc' in s and 'val' in s]\n",
    "    \n",
    "    if len(loss_list) == 0:\n",
    "        print('Loss is missing in history')\n",
    "        return \n",
    "    \n",
    "    ## As loss always exists\n",
    "    epochs = range(1,len(history.history[loss_list[0]]) + 1)\n",
    "    \n",
    "    ## Loss\n",
    "    plt.figure(1)\n",
    "    for l in loss_list:\n",
    "        plt.plot(epochs, history.history[l], 'b', label='Training loss (' + str(str(format(history.history[l][-1],'.5f'))+')'))\n",
    "    for l in val_loss_list:\n",
    "        plt.plot(epochs, history.history[l], 'g', label='Validation loss (' + str(str(format(history.history[l][-1],'.5f'))+')'))\n",
    "    \n",
    "    plt.title('Loss')\n",
    "    plt.xlabel('Epochs')\n",
    "    plt.ylabel('Loss')\n",
    "    plt.legend()\n",
    "    \n",
    "    ## Accuracy\n",
    "    plt.figure(2)\n",
    "    for l in acc_list:\n",
    "        plt.plot(epochs, history.history[l], 'b', label='Training accuracy (' + str(format(history.history[l][-1],'.5f'))+')')\n",
    "    for l in val_acc_list:    \n",
    "        plt.plot(epochs, history.history[l], 'g', label='Validation accuracy (' + str(format(history.history[l][-1],'.5f'))+')')\n",
    "\n",
    "    plt.title('Accuracy')\n",
    "    plt.xlabel('Epochs')\n",
    "    plt.ylabel('Accuracy')\n",
    "    plt.legend()\n",
    "    plt.show()\n",
    "    \n",
    "def plot_confusion_matrix(cm, classes,\n",
    "                          normalize=False,\n",
    "                          cmap=plt.cm.Blues):\n",
    "    \"\"\"\n",
    "    This function prints and plots the confusion matrix.\n",
    "    Normalization can be applied by setting `normalize=True`.\n",
    "    \"\"\"\n",
    "    if normalize:\n",
    "        cm = cm.astype('float') / cm.sum(axis=1)[:, np.newaxis]\n",
    "        title='Normalized confusion matrix'\n",
    "    else:\n",
    "        title='Confusion matrix'\n",
    "\n",
    "    plt.imshow(cm, interpolation='nearest', cmap=cmap)\n",
    "    plt.title(title)\n",
    "    plt.colorbar()\n",
    "    tick_marks = np.arange(len(classes))\n",
    "    plt.xticks(tick_marks, classes, rotation=45)\n",
    "    plt.yticks(tick_marks, classes)\n",
    "\n",
    "    fmt = '.2f' if normalize else 'd'\n",
    "    thresh = cm.max() / 2.\n",
    "    for i, j in itertools.product(range(cm.shape[0]), range(cm.shape[1])):\n",
    "        plt.text(j, i, format(cm[i, j], fmt),\n",
    "                 horizontalalignment=\"center\",\n",
    "                 color=\"white\" if cm[i, j] > thresh else \"black\")\n",
    "\n",
    "    plt.tight_layout()\n",
    "    plt.ylabel('True label')\n",
    "    plt.xlabel('Predicted label')\n",
    "    plt.show()\n",
    "    \n",
    "## multiclass or binary report\n",
    "## If binary (sigmoid output), set binary parameter to True\n",
    "def full_multiclass_report(model,\n",
    "                           x,\n",
    "                           y_true,\n",
    "                           classes,\n",
    "                           batch_size=32,\n",
    "                           binary=False):\n",
    "\n",
    "    # 1. Transform one-hot encoded y_true into their class number\n",
    "    if not binary:\n",
    "        y_true = np.argmax(y_true,axis=1)\n",
    "    \n",
    "    # 2. Predict classes and stores in y_pred\n",
    "    y_pred = np.argmax(model.predict(x, batch_size=batch_size), axis=1)\n",
    "  \n",
    "    print(y_true.shape, y_pred.shape)\n",
    "    # 3. Print accuracy score\n",
    "    print(\"Accuracy : \"+ str(accuracy_score(y_true,y_pred)))\n",
    "    \n",
    "    print(\"\")\n",
    "    \n",
    "    # 4. Print classification report\n",
    "    print(\"Classification Report\")\n",
    "    print(classification_report(y_true,y_pred,digits=5))    \n",
    "    \n",
    "    # 5. Plot confusion matrix\n",
    "    cnf_matrix = confusion_matrix(y_true,y_pred)\n",
    "    print(cnf_matrix)\n",
    "    plot_confusion_matrix(cnf_matrix,classes=classes)\n"
   ]
  },
  {
   "cell_type": "code",
   "execution_count": 19,
   "metadata": {},
   "outputs": [],
   "source": [
    "embedding_layer = Embedding(num_words,\n",
    "                            EMBEDDING_DIM,\n",
    "                            weights=[embedding_matrix],\n",
    "                            input_length=MAX_SEQUENCE_LENGTH,\n",
    "                            trainable=False)\n"
   ]
  },
  {
   "cell_type": "code",
   "execution_count": 20,
   "metadata": {},
   "outputs": [
    {
     "name": "stdout",
     "output_type": "stream",
     "text": [
      "_________________________________________________________________\n",
      "Layer (type)                 Output Shape              Param #   \n",
      "=================================================================\n",
      "input_1 (InputLayer)         (None, 15)                0         \n",
      "_________________________________________________________________\n",
      "embedding_1 (Embedding)      (None, 15, 300)           1612500   \n",
      "_________________________________________________________________\n",
      "spatial_dropout1d_1 (Spatial (None, 15, 300)           0         \n",
      "_________________________________________________________________\n",
      "bidirectional_1 (Bidirection (None, 15, 256)           439296    \n",
      "_________________________________________________________________\n",
      "bidirectional_2 (Bidirection (None, 256)               394240    \n",
      "_________________________________________________________________\n",
      "dense_1 (Dense)              (None, 2)                 514       \n",
      "=================================================================\n",
      "Total params: 2,446,550\n",
      "Trainable params: 834,050\n",
      "Non-trainable params: 1,612,500\n",
      "_________________________________________________________________\n"
     ]
    }
   ],
   "source": [
    "sequence_input = Input(shape=(MAX_SEQUENCE_LENGTH,), dtype='int32')\n",
    "embedded_sequences = embedding_layer(sequence_input)\n",
    "X = SpatialDropout1D(0.4)(embedded_sequences)\n",
    "X = Bidirectional(LSTM(128, dropout=0.5, recurrent_dropout=0.75, return_sequences=True))(X)\n",
    "# X = Bidirectional(LSTM(128, dropout=0.5, recurrent_dropout=0.75, return_sequences=True))(X)\n",
    "X = Bidirectional(LSTM(128))(X)\n",
    "X = Dense(2, activation='softmax')(X)\n",
    "\n",
    "model = Model(sequence_input, X)\n",
    "model.summary()"
   ]
  },
  {
   "cell_type": "code",
   "execution_count": 21,
   "metadata": {},
   "outputs": [],
   "source": [
    "model.compile(loss = 'categorical_crossentropy', optimizer='rmsprop', metrics = ['accuracy'])\n",
    "model.reset_states()"
   ]
  },
  {
   "cell_type": "code",
   "execution_count": 22,
   "metadata": {
    "scrolled": false
   },
   "outputs": [
    {
     "name": "stdout",
     "output_type": "stream",
     "text": [
      "Train on 2400 samples, validate on 600 samples\n",
      "Epoch 1/30\n",
      "2400/2400 [==============================] - 6s 2ms/step - loss: 0.6241 - acc: 0.6475 - val_loss: 0.5226 - val_acc: 0.7150\n",
      "Epoch 2/30\n",
      "2400/2400 [==============================] - 4s 2ms/step - loss: 0.5551 - acc: 0.7254 - val_loss: 0.4887 - val_acc: 0.7733\n",
      "Epoch 3/30\n",
      "2400/2400 [==============================] - 4s 2ms/step - loss: 0.5308 - acc: 0.7421 - val_loss: 0.4522 - val_acc: 0.7633\n",
      "Epoch 4/30\n",
      "2400/2400 [==============================] - 4s 2ms/step - loss: 0.5101 - acc: 0.7500 - val_loss: 0.4312 - val_acc: 0.7867\n",
      "Epoch 5/30\n",
      "2400/2400 [==============================] - 4s 2ms/step - loss: 0.5010 - acc: 0.7550 - val_loss: 0.4264 - val_acc: 0.7833\n",
      "Epoch 6/30\n",
      "2400/2400 [==============================] - 4s 2ms/step - loss: 0.4797 - acc: 0.7683 - val_loss: 0.4221 - val_acc: 0.7867\n",
      "Epoch 7/30\n",
      "2400/2400 [==============================] - 4s 2ms/step - loss: 0.4505 - acc: 0.7863 - val_loss: 0.4053 - val_acc: 0.7900\n",
      "Epoch 8/30\n",
      "2400/2400 [==============================] - 4s 2ms/step - loss: 0.4372 - acc: 0.7925 - val_loss: 0.3934 - val_acc: 0.8033\n",
      "Epoch 9/30\n",
      "2400/2400 [==============================] - 4s 2ms/step - loss: 0.4433 - acc: 0.7892 - val_loss: 0.3978 - val_acc: 0.8117\n",
      "Epoch 10/30\n",
      "2400/2400 [==============================] - 4s 2ms/step - loss: 0.4167 - acc: 0.8100 - val_loss: 0.3661 - val_acc: 0.8150\n",
      "Epoch 11/30\n",
      "2400/2400 [==============================] - 4s 2ms/step - loss: 0.3923 - acc: 0.8133 - val_loss: 0.3845 - val_acc: 0.7983\n",
      "Epoch 12/30\n",
      "2400/2400 [==============================] - 4s 2ms/step - loss: 0.3931 - acc: 0.8183 - val_loss: 0.3784 - val_acc: 0.8283\n",
      "Epoch 13/30\n",
      "2400/2400 [==============================] - 4s 2ms/step - loss: 0.3707 - acc: 0.8358 - val_loss: 0.3711 - val_acc: 0.8183\n",
      "Epoch 14/30\n",
      "2400/2400 [==============================] - 4s 2ms/step - loss: 0.3474 - acc: 0.8400 - val_loss: 0.3715 - val_acc: 0.8150\n",
      "Epoch 15/30\n",
      "2400/2400 [==============================] - 4s 2ms/step - loss: 0.3553 - acc: 0.8438 - val_loss: 0.3560 - val_acc: 0.8350\n",
      "Epoch 16/30\n",
      "2400/2400 [==============================] - 4s 2ms/step - loss: 0.3402 - acc: 0.8471 - val_loss: 0.3598 - val_acc: 0.8283\n",
      "Epoch 17/30\n",
      "2400/2400 [==============================] - 4s 2ms/step - loss: 0.3222 - acc: 0.8538 - val_loss: 0.3651 - val_acc: 0.8283\n",
      "Epoch 18/30\n",
      "2400/2400 [==============================] - 4s 2ms/step - loss: 0.3150 - acc: 0.8567 - val_loss: 0.3567 - val_acc: 0.8367\n",
      "Epoch 19/30\n",
      "2400/2400 [==============================] - 4s 2ms/step - loss: 0.2984 - acc: 0.8650 - val_loss: 0.3432 - val_acc: 0.8333\n",
      "Epoch 20/30\n",
      "2400/2400 [==============================] - 4s 2ms/step - loss: 0.2923 - acc: 0.8658 - val_loss: 0.3592 - val_acc: 0.8333\n",
      "Epoch 21/30\n",
      "2400/2400 [==============================] - 4s 2ms/step - loss: 0.2730 - acc: 0.8829 - val_loss: 0.3564 - val_acc: 0.8467\n",
      "Epoch 22/30\n",
      "2400/2400 [==============================] - 4s 2ms/step - loss: 0.2714 - acc: 0.8829 - val_loss: 0.3570 - val_acc: 0.8467\n",
      "Epoch 23/30\n",
      "2400/2400 [==============================] - 4s 2ms/step - loss: 0.2494 - acc: 0.9004 - val_loss: 0.3863 - val_acc: 0.8333\n",
      "Epoch 24/30\n",
      "2400/2400 [==============================] - 4s 2ms/step - loss: 0.2482 - acc: 0.8971 - val_loss: 0.3854 - val_acc: 0.8383\n",
      "Epoch 25/30\n",
      "2400/2400 [==============================] - 4s 2ms/step - loss: 0.2441 - acc: 0.8967 - val_loss: 0.3910 - val_acc: 0.8400\n",
      "Epoch 26/30\n",
      "2400/2400 [==============================] - 4s 2ms/step - loss: 0.2217 - acc: 0.9083 - val_loss: 0.3681 - val_acc: 0.8350\n",
      "Epoch 27/30\n",
      "2400/2400 [==============================] - 4s 2ms/step - loss: 0.2254 - acc: 0.9067 - val_loss: 0.4333 - val_acc: 0.8483\n",
      "Epoch 28/30\n",
      "2400/2400 [==============================] - 4s 2ms/step - loss: 0.2158 - acc: 0.9021 - val_loss: 0.3942 - val_acc: 0.8533\n",
      "Epoch 29/30\n",
      "2400/2400 [==============================] - 4s 2ms/step - loss: 0.1982 - acc: 0.9192 - val_loss: 0.4341 - val_acc: 0.8400\n",
      "Epoch 30/30\n",
      "2400/2400 [==============================] - 4s 2ms/step - loss: 0.2013 - acc: 0.9221 - val_loss: 0.4271 - val_acc: 0.8417\n"
     ]
    }
   ],
   "source": [
    "BATCH_SIZE = 32\n",
    "EPOCHS = 30\n",
    "\n",
    "history = model.fit(X_train, \n",
    "          Y_train, \n",
    "          epochs = EPOCHS, \n",
    "          validation_data=(X_val, Y_val), \n",
    "          batch_size=BATCH_SIZE)\n"
   ]
  },
  {
   "cell_type": "code",
   "execution_count": 23,
   "metadata": {},
   "outputs": [
    {
     "data": {
      "image/png": "[encoded data removed]",
      "text/plain": [
       "<Figure size 432x288 with 1 Axes>"
      ]
     },
     "metadata": {},
     "output_type": "display_data"
    },
    {
     "data": {
      "image/png": "[encoded data removed]",
      "text/plain": [
       "<Figure size 432x288 with 1 Axes>"
      ]
     },
     "metadata": {},
     "output_type": "display_data"
    }
   ],
   "source": [
    "plot_history(history)"
   ]
  },
  {
   "cell_type": "code",
   "execution_count": 24,
   "metadata": {},
   "outputs": [
    {
     "name": "stdout",
     "output_type": "stream",
     "text": [
      "(600,) (600,)\n",
      "Accuracy : 0.8416666666666667\n",
      "\n",
      "Classification Report\n",
      "             precision    recall  f1-score   support\n",
      "\n",
      "          0    0.85560   0.81164   0.83304       292\n",
      "          1    0.82972   0.87013   0.84945       308\n",
      "\n",
      "avg / total    0.84231   0.84167   0.84146       600\n",
      "\n",
      "[[237  55]\n",
      " [ 40 268]]\n"
     ]
    },
    {
     "data": {
      "image/png": "[encoded data removed]",
      "text/plain": [
       "<Figure size 432x288 with 2 Axes>"
      ]
     },
     "metadata": {},
     "output_type": "display_data"
    }
   ],
   "source": [
    "full_multiclass_report(model, X_val, Y_val, np.array([\"True\", \"False\"]))"
   ]
  },
  {
   "cell_type": "code",
   "execution_count": 25,
   "metadata": {},
   "outputs": [
    {
     "name": "stdout",
     "output_type": "stream",
     "text": [
      "[[   0    0    0    0    0    0    0    0    0    0    8 1013  176 4727\n",
      "    74]]\n",
      "negative\n"
     ]
    }
   ],
   "source": [
    "twt = ['This shows poor build quality']\n",
    "#vectorizing the tweet by the pre-fitted tokenizer instance\n",
    "twt = tokenizer.texts_to_sequences(twt)\n",
    "#padding the tweet to have exactly the same shape as `embedding_2` input\n",
    "twt = pad_sequences(twt, maxlen=15, dtype='int32', value=0)\n",
    "print(twt)\n",
    "sentiment = model.predict(twt,batch_size=1,verbose = 2)[0]\n",
    "if(np.argmax(sentiment) == 0):\n",
    "    print(\"negative\")\n",
    "elif (np.argmax(sentiment) == 1):\n",
    "    print(\"positive\")\n"
   ]
  },
  {
   "cell_type": "code",
   "execution_count": 26,
   "metadata": {},
   "outputs": [],
   "source": [
    "model.save('lstm_senti_v0.h5')"
   ]
  },
  {
   "cell_type": "code",
   "execution_count": null,
   "metadata": {},
   "outputs": [],
   "source": []
  }
 ],
 "metadata": {
  "kernelspec": {
   "display_name": "Python [conda env:ai]",
   "language": "python",
   "name": "conda-env-ai-py"
  },
  "language_info": {
   "codemirror_mode": {
    "name": "ipython",
    "version": 3
   },
   "file_extension": ".py",
   "mimetype": "text/x-python",
   "name": "python",
   "nbconvert_exporter": "python",
   "pygments_lexer": "ipython3",
   "version": "3.6.4"
  }
 },
 "nbformat": 4,
 "nbformat_minor": 2
}
